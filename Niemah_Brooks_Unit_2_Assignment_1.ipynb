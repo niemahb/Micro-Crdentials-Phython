{
  "nbformat": 4,
  "nbformat_minor": 0,
  "metadata": {
    "colab": {
      "name": "Niemah Brooks Unit 2: Assignment 1",
      "provenance": [],
      "collapsed_sections": []
    },
    "kernelspec": {
      "name": "python3",
      "display_name": "Python 3"
    }
  },
  "cells": [
    {
      "cell_type": "markdown",
      "metadata": {
        "id": "view-in-github"
      },
      "source": [
        "<a href=\"https://colab.research.google.com/github/niteen11/lagcc_data_analytics_micro_credential/blob/master/Unit%202%20-%20Python%20Fundamentals/Assignments/Unit2_Intro_Assignment_1.ipynb\" target=\"_parent\"><img src=\"https://colab.research.google.com/assets/colab-badge.svg\" alt=\"Open In Colab\"/></a>"
      ]
    },
    {
      "cell_type": "markdown",
      "metadata": {
        "id": "Vgs8Kp4TidFQ"
      },
      "source": [
        "# Lesson 1 - Intrdouction to Python - Assignment 1\n",
        "\n",
        "> Indented block\n",
        "\n"
      ]
    },
    {
      "cell_type": "markdown",
      "metadata": {
        "id": "_Hq7Ny79iwgD"
      },
      "source": [
        "## 1.\tWhat is Python and why is it useful?"
      ]
    },
    {
      "cell_type": "markdown",
      "metadata": {
        "id": "DBd0pMkDi0pv"
      },
      "source": [
        "Python is an open-sourced language that is used to perform data analytics and visualization. "
      ]
    },
    {
      "cell_type": "markdown",
      "metadata": {
        "id": "io_27RSlizno"
      },
      "source": [
        "## 2.\tAre the following variable names allowed in python?"
      ]
    },
    {
      "cell_type": "markdown",
      "metadata": {
        "id": "9_GYv9VTiqrI"
      },
      "source": [
        "a.\t1_message != variable\n",
        "\n",
        "b.\tGreeting_message = variable \n",
        "\n",
        "c.\tMessage_1 = variable \n",
        "\n",
        "d.\tFirst name != variable\n",
        "\n",
        "e.\tFull_name = varaible\n",
        "\n"
      ]
    },
    {
      "cell_type": "markdown",
      "metadata": {
        "id": "b5M6t8YjjPaZ"
      },
      "source": [
        ""
      ]
    },
    {
      "cell_type": "markdown",
      "metadata": {
        "id": "DAW8m8IQjRyR"
      },
      "source": [
        "## 3.\tCreate a variable that holds the string “hello there!”"
      ]
    },
    {
      "cell_type": "code",
      "metadata": {
        "id": "guULMEhrjYtT"
      },
      "source": [
        "text = \"HELLO THERE\""
      ],
      "execution_count": null,
      "outputs": []
    },
    {
      "cell_type": "code",
      "metadata": {
        "id": "cv946RaOjw-G",
        "outputId": "196abf64-f733-45fb-e76a-737ff03e0500",
        "colab": {
          "base_uri": "https://localhost:8080/"
        }
      },
      "source": [
        "print (text)"
      ],
      "execution_count": null,
      "outputs": [
        {
          "output_type": "stream",
          "name": "stdout",
          "text": [
            "HELLO THERE\n"
          ]
        }
      ]
    },
    {
      "cell_type": "markdown",
      "metadata": {
        "id": "dpa_YOt4jXyo"
      },
      "source": [
        "## 4.\tCreate a variable for first name, last name and an email extension.  Concatenating all three together to form an email address.  For example: firstnamelastname@gmail.com"
      ]
    },
    {
      "cell_type": "code",
      "metadata": {
        "id": "pltxfnh3iJLW"
      },
      "source": [
        "first_name = \"Margrett\"\n",
        "last_name = \"Homes\"\n",
        "email_extension = \"@yahoo.com\"\n",
        "email = first_name + last_name + email_extension"
      ],
      "execution_count": null,
      "outputs": []
    },
    {
      "cell_type": "code",
      "metadata": {
        "id": "PzH5Rcn-jwPL",
        "colab": {
          "base_uri": "https://localhost:8080/"
        },
        "outputId": "67c71c2e-8d35-4a36-f015-b040613e4e88"
      },
      "source": [
        "print(email)"
      ],
      "execution_count": null,
      "outputs": [
        {
          "output_type": "stream",
          "name": "stdout",
          "text": [
            "MargrettHomes@yahoo.com\n"
          ]
        }
      ]
    },
    {
      "cell_type": "markdown",
      "metadata": {
        "id": "Ka84RGy4jmLT"
      },
      "source": [
        "## 5.\tStore someone you know name in a variable called name.  Print their name in lower and uppercase using a method."
      ]
    },
    {
      "cell_type": "code",
      "metadata": {
        "id": "34IFFtK4jrg4"
      },
      "source": [
        "name = \"Katelynn\""
      ],
      "execution_count": null,
      "outputs": []
    },
    {
      "cell_type": "code",
      "metadata": {
        "id": "M17RfxQljvqb",
        "outputId": "7501645f-7d39-4618-9f8d-763474c9c40f",
        "colab": {
          "base_uri": "https://localhost:8080/"
        }
      },
      "source": [
        "print(name.lower())"
      ],
      "execution_count": null,
      "outputs": [
        {
          "output_type": "stream",
          "name": "stdout",
          "text": [
            "katelynn\n"
          ]
        }
      ]
    },
    {
      "cell_type": "code",
      "metadata": {
        "id": "4agTp_Cyju4-",
        "outputId": "c4c81e0c-80db-407f-bb6f-e52ff01e4fa7",
        "colab": {
          "base_uri": "https://localhost:8080/"
        }
      },
      "source": [
        "print(name.upper())"
      ],
      "execution_count": null,
      "outputs": [
        {
          "output_type": "stream",
          "name": "stdout",
          "text": [
            "KATELYNN\n"
          ]
        }
      ]
    }
  ]
}