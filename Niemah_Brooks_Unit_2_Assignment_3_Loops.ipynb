{
  "nbformat": 4,
  "nbformat_minor": 0,
  "metadata": {
    "colab": {
      "name": "Niemah Brooks Unit 2: Assignment 3- Loops",
      "provenance": [],
      "collapsed_sections": [],
      "toc_visible": true
    },
    "kernelspec": {
      "name": "python3",
      "display_name": "Python 3"
    }
  },
  "cells": [
    {
      "cell_type": "markdown",
      "metadata": {
        "id": "view-in-github"
      },
      "source": [
        "<a href=\"https://colab.research.google.com/github/niteen11/lagcc_data_analytics_micro_credential/blob/master/Unit%202%20-%20Python%20Fundamentals/Assignments/Unit2_Loop_Assignment_3.ipynb\" target=\"_parent\"><img src=\"https://colab.research.google.com/assets/colab-badge.svg\" alt=\"Open In Colab\"/></a>"
      ]
    },
    {
      "cell_type": "markdown",
      "metadata": {
        "id": "Vgs8Kp4TidFQ"
      },
      "source": [
        "# Intrdouction to Python - Loop - Assignment #3 "
      ]
    },
    {
      "cell_type": "markdown",
      "metadata": {
        "id": "_Hq7Ny79iwgD"
      },
      "source": [
        "## 1. Create a list that holds 5 data variables. "
      ]
    },
    {
      "cell_type": "code",
      "metadata": {
        "id": "lotvpVpvlKsR"
      },
      "source": [
        "shoes = ['Air Jordan', 'Ugg', 'Doc Marten', 'Birkenstock', 'Converse']"
      ],
      "execution_count": null,
      "outputs": []
    },
    {
      "cell_type": "code",
      "metadata": {
        "id": "oNXY-CfrlLbE",
        "outputId": "fcc1c463-1e7b-4160-f596-bc8398a78724",
        "colab": {
          "base_uri": "https://localhost:8080/"
        }
      },
      "source": [
        "print(shoes)"
      ],
      "execution_count": null,
      "outputs": [
        {
          "output_type": "stream",
          "name": "stdout",
          "text": [
            "['Air Jordan', 'Ugg', 'Doc Marten', 'Birkenstock', 'Converse']\n"
          ]
        }
      ]
    },
    {
      "cell_type": "markdown",
      "metadata": {
        "id": "io_27RSlizno"
      },
      "source": [
        "## 2.\tPrint out those variables by using a for loop"
      ]
    },
    {
      "cell_type": "code",
      "metadata": {
        "id": "Dh1o5cAylSHB",
        "colab": {
          "base_uri": "https://localhost:8080/"
        },
        "outputId": "5704f13d-4b54-4197-97aa-f663a398286f"
      },
      "source": [
        "for brand in shoes:\n",
        "  print(brand)"
      ],
      "execution_count": null,
      "outputs": [
        {
          "output_type": "stream",
          "name": "stdout",
          "text": [
            "Air Jordan\n",
            "Ugg\n",
            "Doc Marten\n",
            "Birkenstock\n",
            "Converse\n"
          ]
        }
      ]
    },
    {
      "cell_type": "code",
      "metadata": {
        "id": "vs8ppR-wlSKL"
      },
      "source": [
        ""
      ],
      "execution_count": null,
      "outputs": []
    },
    {
      "cell_type": "markdown",
      "metadata": {
        "id": "DAW8m8IQjRyR"
      },
      "source": [
        "## 3.\tModify your for loop to add a message to your for loop."
      ]
    },
    {
      "cell_type": "code",
      "metadata": {
        "id": "guULMEhrjYtT",
        "colab": {
          "base_uri": "https://localhost:8080/"
        },
        "outputId": "874ec823-6b08-41b9-adc3-372276d99c5b"
      },
      "source": [
        "for brand in shoes:\n",
        "  print (brand.title() + \" are some of my favorites shoes, but Uggs are the best for the winter.\")"
      ],
      "execution_count": null,
      "outputs": [
        {
          "output_type": "stream",
          "name": "stdout",
          "text": [
            "Air Jordan are some of my favorites shoes, but Uggs are the best for the winter.\n",
            "Ugg are some of my favorites shoes, but Uggs are the best for the winter.\n",
            "Doc Marten are some of my favorites shoes, but Uggs are the best for the winter.\n",
            "Birkenstock are some of my favorites shoes, but Uggs are the best for the winter.\n",
            "Converse are some of my favorites shoes, but Uggs are the best for the winter.\n"
          ]
        }
      ]
    },
    {
      "cell_type": "code",
      "metadata": {
        "id": "cv946RaOjw-G"
      },
      "source": [
        ""
      ],
      "execution_count": null,
      "outputs": []
    },
    {
      "cell_type": "markdown",
      "metadata": {
        "id": "dpa_YOt4jXyo"
      },
      "source": [
        "## 4.\tUse a for loop to print even numbers from 1-20."
      ]
    },
    {
      "cell_type": "code",
      "metadata": {
        "id": "pltxfnh3iJLW",
        "colab": {
          "base_uri": "https://localhost:8080/"
        },
        "outputId": "bc05fd69-9d3c-42d5-ba9c-5e873e0571b0"
      },
      "source": [
        "list1 = (1,2,3,4,5,6,7,8,9,10,11,12,13,14,15,16,17,18,19,20)\n",
        "for num in list1:\n",
        "  if num % 2 ==0:\n",
        "   print(num)"
      ],
      "execution_count": null,
      "outputs": [
        {
          "output_type": "stream",
          "name": "stdout",
          "text": [
            "2\n",
            "4\n",
            "6\n",
            "8\n",
            "10\n",
            "12\n",
            "14\n",
            "16\n",
            "18\n",
            "20\n"
          ]
        }
      ]
    },
    {
      "cell_type": "markdown",
      "metadata": {
        "id": "Ka84RGy4jmLT"
      },
      "source": [
        "## 5.\tSort your list in alphabetic order."
      ]
    },
    {
      "cell_type": "code",
      "metadata": {
        "id": "34IFFtK4jrg4"
      },
      "source": [
        "shoes.sort()"
      ],
      "execution_count": null,
      "outputs": []
    },
    {
      "cell_type": "code",
      "metadata": {
        "id": "M17RfxQljvqb",
        "colab": {
          "base_uri": "https://localhost:8080/"
        },
        "outputId": "fda41c8e-68b4-48d8-c988-0dc8d96926d0"
      },
      "source": [
        "print(shoes)"
      ],
      "execution_count": null,
      "outputs": [
        {
          "output_type": "stream",
          "name": "stdout",
          "text": [
            "['Air Jordan', 'Birkenstock', 'Converse', 'Doc Marten', 'Ugg']\n"
          ]
        }
      ]
    },
    {
      "cell_type": "code",
      "metadata": {
        "id": "4agTp_Cyju4-"
      },
      "source": [
        ""
      ],
      "execution_count": null,
      "outputs": []
    },
    {
      "cell_type": "markdown",
      "metadata": {
        "id": "ZKHwdMnLliFy"
      },
      "source": [
        "## 6.\tPrint out the first three elements of your list."
      ]
    },
    {
      "cell_type": "code",
      "metadata": {
        "id": "eXUDZfLOllTT"
      },
      "source": [
        "N=3\n",
        "new_shoes = shoes[:3]"
      ],
      "execution_count": null,
      "outputs": []
    },
    {
      "cell_type": "code",
      "metadata": {
        "id": "4oNKGU70llVg",
        "colab": {
          "base_uri": "https://localhost:8080/"
        },
        "outputId": "9e5259b7-2302-4a14-889e-b36d390fe37d"
      },
      "source": [
        "print(new_shoes)"
      ],
      "execution_count": null,
      "outputs": [
        {
          "output_type": "stream",
          "name": "stdout",
          "text": [
            "['Air Jordan', 'Ugg', 'Doc Marten']\n"
          ]
        }
      ]
    },
    {
      "cell_type": "markdown",
      "metadata": {
        "id": "oedkoLECmv6x"
      },
      "source": [
        "## 7.\tCreate a loop to print the last 2 elements of your list."
      ]
    },
    {
      "cell_type": "code",
      "metadata": {
        "id": "jjh2GdktllZY"
      },
      "source": [
        "+print(shoes)"
      ],
      "execution_count": null,
      "outputs": []
    }
  ]
}